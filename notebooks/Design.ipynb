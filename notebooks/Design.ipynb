{
 "cells": [
  {
   "cell_type": "code",
   "execution_count": 1,
   "metadata": {},
   "outputs": [],
   "source": [
    "import numpy as np\n",
    "from matplotlib import pyplot as plt\n",
    "from matplotlib.patches import Polygon\n",
    "from matplotlib.collections import PatchCollection\n",
    "%matplotlib inline"
   ]
  },
  {
   "cell_type": "code",
   "execution_count": 2,
   "metadata": {},
   "outputs": [],
   "source": [
    "class Move():\n",
    "    def __init__(self, axis, level, rotation):\n",
    "        self.axis = axis\n",
    "        self.level = level\n",
    "        self.rotation = rotation\n",
    "        \n",
    "    def invert(self):\n",
    "        return Move(self.axis, self.level, 1 - self.rotation)"
   ]
  },
  {
   "cell_type": "code",
   "execution_count": 58,
   "metadata": {},
   "outputs": [],
   "source": [
    "class ComponentCube():\n",
    "    def __init__(self, position, orientation):\n",
    "        self.position = position\n",
    "        self.orientation = orientation\n",
    "        \n",
    "        self.rotation_mapping = {\n",
    "            'x': {'f': 't', 't': 'k', 'k': 'b', 'b': 'f', 'l': 'l', 'r': 'r'},\n",
    "            'y': {'f': 'l', 'l': 'k', 'k': 'r', 'r': 'f', 't': 't', 'b': 'b'},\n",
    "            'z': {'t': 'l', 'l': 'b', 'b': 'r', 'r': 't', 'f': 'f', 'k': 'k'}\n",
    "        }\n",
    "        \n",
    "        self.position_mapping = {\n",
    "            '[2, 1]': [1, 0],\n",
    "            '[1, 0]': [0, 1],\n",
    "            '[0, 1]': [1, 2],\n",
    "            '[1, 2]': [2, 1],\n",
    "            '[0, 0]': [0, 2],\n",
    "            '[0, 2]': [2, 2],\n",
    "            '[2, 2]': [2, 0],\n",
    "            '[2, 0]': [0, 0],\n",
    "            '[1, 1]': [1, 1]\n",
    "        }\n",
    "        \n",
    "        self.projections = {\n",
    "            'x': [1, 2],\n",
    "            'y': [2, 0],\n",
    "            'z': [0, 1]\n",
    "        }\n",
    "    \n",
    "    def make_move(self, move: Move):\n",
    "        num_rotations = int(4 * move.rotation)\n",
    "        assert num_rotations in [1, 2, 3]\n",
    "        for i in range(num_rotations):\n",
    "            self.get_new_orientation(move)\n",
    "            self.get_new_position(move)\n",
    "            \n",
    "    def get_new_orientation(self, move: Move):\n",
    "        self.orientation = {k: self.orientation[v] for k, v in self.rotation_mapping[move.axis].items()}\n",
    "            \n",
    "    def get_new_position(self, move: Move):\n",
    "        position_copy = self.position.copy()\n",
    "        projection = self.projections[move.axis]\n",
    "        projection_coords = [position_copy[projection[0]], position_copy[projection[1]]]\n",
    "        new_sub_positions = self.position_mapping[str(projection_coords)]\n",
    "        self.position[projection[0]] = new_sub_positions[0]\n",
    "        self.position[projection[1]] = new_sub_positions[1]\n",
    "        \n",
    "    def get_vertices(self, face, view, border_multiplier):\n",
    "        \n",
    "        bm = border_multiplier\n",
    "        \n",
    "        if view == 'primary':\n",
    "\n",
    "            x = np.array([0.8, 0.13])\n",
    "            y = np.array([0, 1])\n",
    "            z = np.array([-0.3, 0.5])\n",
    "\n",
    "            if face == 'f':\n",
    "                bl_coords = [self.position[0] * x, self.position[1] * y, x * bm, y * bm]\n",
    "                tl_coords = [self.position[0] * x, (self.position[1] + 1) * y, x * bm, -y * bm]\n",
    "                tr_coords = [(self.position[0] + 1) * x, (self.position[1] + 1) * y, -x * bm, -y * bm]\n",
    "                br_coords = [(self.position[0] + 1) * x, self.position[1] * y, -x * bm, y * bm]\n",
    "            elif face == 't':\n",
    "                bl_coords = [self.position[0] * x, 3 * y, self.position[2] * z, x * bm, z * bm]\n",
    "                tl_coords = [self.position[0] * x, 3 * y, (self.position[2] + 1) * z, x * bm, -z * bm]\n",
    "                tr_coords = [(self.position[0] + 1) * x, 3 * y, (self.position[2] + 1) * z, -x * bm, -z * bm]\n",
    "                br_coords = [(self.position[0] + 1) * x, 3 * y, self.position[2] * z, -x * bm, z * bm]\n",
    "            elif face == 'l':\n",
    "                bl_coords = [self.position[1] * y, (self.position[2] + 1) * z, y * bm, -z * bm]\n",
    "                tl_coords = [(self.position[1] + 1) * y, (self.position[2] + 1) * z, -y * bm, -z * bm]\n",
    "                tr_coords = [(self.position[1] + 1) * y, self.position[2] * z, -y * bm, z * bm]\n",
    "                br_coords = [self.position[1] * y, self.position[2] * z, y * bm, z * bm]\n",
    "            else: \n",
    "                raise IndexError(f\"Face '{face}' not valid with view '{view}'\")\n",
    "                \n",
    "            UPWARD_ADJUSTMENT = np.array([0, 0])\n",
    "        \n",
    "        elif view == 'secondary':\n",
    "            \n",
    "            x = np.array([0.8, -0.13])\n",
    "            y = np.array([0, 1])\n",
    "            z = np.array([-0.3, -0.5])\n",
    "\n",
    "            if face == 'k':\n",
    "                bl_coords = [(2 - self.position[0]) * x, self.position[1] * y, x * bm, y * bm]\n",
    "                tl_coords = [(2 - self.position[0]) * x, (self.position[1] + 1) * y, x * bm, -y * bm]\n",
    "                tr_coords = [(3 - self.position[0]) * x, (self.position[1] + 1) * y, -x * bm, -y * bm]\n",
    "                br_coords = [(3 - self.position[0]) * x, self.position[1] * y, -x * bm, y * bm]\n",
    "            elif face == 'b':\n",
    "                bl_coords = [(2 - self.position[0]) * x, (3 - self.position[2]) * z, x * bm, -z * bm]\n",
    "                tl_coords = [(2 - self.position[0]) * x, (2 - self.position[2]) * z, x * bm, z * bm]\n",
    "                tr_coords = [(3 - self.position[0]) * x, (2 - self.position[2]) * z, -x * bm, z * bm]\n",
    "                br_coords = [(3 - self.position[0]) * x, (3 - self.position[2]) * z, -x * bm, -z * bm]\n",
    "            elif face == 'r':\n",
    "                bl_coords = [self.position[1] * y, (3 - self.position[2]) * z, y * bm, -z * bm]\n",
    "                tl_coords = [(self.position[1] + 1) * y, (3 - self.position[2]) * z, -y * bm, -z * bm]\n",
    "                tr_coords = [(self.position[1] + 1) * y, (2 - self.position[2]) * z, -y * bm, z * bm]\n",
    "                br_coords = [self.position[1] * y, (2 - self.position[2]) * z, y * bm, z * bm]\n",
    "            else: \n",
    "                raise IndexError(f\"Face '{face}' not valid with view '{view}'\")\n",
    "            \n",
    "            UPWARD_ADJUSTMENT = np.array([0, (x[1] + y[1]) * 2])\n",
    "            \n",
    "        else:\n",
    "            raise IndexError(f\"View '{view}' not valid\")\n",
    "            \n",
    "        bl = sum(bl_coords) + UPWARD_ADJUSTMENT\n",
    "        tl = sum(tl_coords) + UPWARD_ADJUSTMENT\n",
    "        tr = sum(tr_coords) + UPWARD_ADJUSTMENT\n",
    "        br = sum(br_coords) + UPWARD_ADJUSTMENT\n",
    "        \n",
    "        return [bl, tl, tr, br]"
   ]
  },
  {
   "cell_type": "code",
   "execution_count": 59,
   "metadata": {},
   "outputs": [],
   "source": [
    "position = [0, 2, 1]\n",
    "orientation = {\n",
    "    'f': 'f',\n",
    "    'k': 'k',\n",
    "    'l': 'l',\n",
    "    'r': 'r',\n",
    "    't': 't',\n",
    "    'b': 'b'\n",
    "}\n",
    "cc = ComponentCube(position, orientation)"
   ]
  },
  {
   "cell_type": "code",
   "execution_count": 60,
   "metadata": {},
   "outputs": [
    {
     "data": {
      "text/plain": [
       "[0, 2, 1]"
      ]
     },
     "execution_count": 60,
     "metadata": {},
     "output_type": "execute_result"
    }
   ],
   "source": [
    "cc.position"
   ]
  },
  {
   "cell_type": "code",
   "execution_count": 61,
   "metadata": {},
   "outputs": [
    {
     "data": {
      "text/plain": [
       "{'f': 'f', 'k': 'k', 'l': 'l', 'r': 'r', 't': 't', 'b': 'b'}"
      ]
     },
     "execution_count": 61,
     "metadata": {},
     "output_type": "execute_result"
    }
   ],
   "source": [
    "cc.orientation"
   ]
  },
  {
   "cell_type": "code",
   "execution_count": 62,
   "metadata": {},
   "outputs": [],
   "source": [
    "cc.make_move(Move(level=1, axis='y', rotation=0.25))"
   ]
  },
  {
   "cell_type": "code",
   "execution_count": 63,
   "metadata": {},
   "outputs": [
    {
     "data": {
      "text/plain": [
       "[1, 2, 0]"
      ]
     },
     "execution_count": 63,
     "metadata": {},
     "output_type": "execute_result"
    }
   ],
   "source": [
    "cc.position"
   ]
  },
  {
   "cell_type": "code",
   "execution_count": 64,
   "metadata": {},
   "outputs": [
    {
     "data": {
      "text/plain": [
       "{'f': 'l', 'l': 'k', 'k': 'r', 'r': 'f', 't': 't', 'b': 'b'}"
      ]
     },
     "execution_count": 64,
     "metadata": {},
     "output_type": "execute_result"
    }
   ],
   "source": [
    "cc.orientation"
   ]
  },
  {
   "cell_type": "code",
   "execution_count": 65,
   "metadata": {},
   "outputs": [],
   "source": [
    "class RubiksCube():\n",
    "    def __init__(self, *args, **kwargs):\n",
    "        self.solved_orientation = {\n",
    "            'f': 'f',\n",
    "            'k': 'k',\n",
    "            'l': 'l',\n",
    "            'r': 'r',\n",
    "            't': 't',\n",
    "            'b': 'b'\n",
    "        }\n",
    "\n",
    "        self.perfectly_solved_state = [\n",
    "            ComponentCube(position=[i, j, k], \n",
    "                          orientation=self.solved_orientation) \\\n",
    "                              for i in range(3) \\\n",
    "                              for j in range(3) \\\n",
    "                              for k in range(3)\n",
    "        ]\n",
    "\n",
    "        self.NUM_SMALL_CUBES = 3 * 3 * 3\n",
    "        \n",
    "        self.moves_log = []\n",
    "        \n",
    "        if 'state' in kwargs.keys():\n",
    "            self.state = kwargs['state']\n",
    "        else:\n",
    "            self.randomise()\n",
    "\n",
    "    def randomise(self):\n",
    "        self.state = self.perfectly_solved_state\n",
    "        for i in range(100):\n",
    "            random_move = Move(\n",
    "                axis=np.random.choice(['x', 'y', 'z']),\n",
    "                level=np.random.choice([0, 1, 2]),\n",
    "                rotation=np.random.choice([0.25, 0.5, 0.75])\n",
    "            )\n",
    "            self.make_move(random_move)\n",
    "    \n",
    "    def get_cube_positions_to_move(self, move: Move):\n",
    "        if move.axis == 'x':\n",
    "            return [[move.level, i, j] for i in range(3) for j in range(3)]\n",
    "        elif move.axis == 'y':\n",
    "            return [[i, move.level, j] for i in range(3) for j in range(3)]\n",
    "        elif move.axis == 'z':\n",
    "            return [[i, j, move.level] for i in range(3) for j in range(3)]\n",
    "        \n",
    "    def make_move(self, move: Move):\n",
    "        for i in range(self.NUM_SMALL_CUBES):\n",
    "            if self.state[i].position in self.get_cube_positions_to_move(move):   \n",
    "                self.state[i].make_move(move)\n",
    "                self.moves_log.append(move)\n",
    "\n",
    "    def solve(self) -> list:\n",
    "        pass\n",
    "    \n",
    "    def is_solved(self):\n",
    "        face_left = [cc.orientation['l'] for cc in self.state if cc.position[0] == 0]\n",
    "        face_right = [cc.orientation['r'] for cc in self.state if cc.position[0] == 2]\n",
    "        face_bottom = [cc.orientation['b'] for cc in self.state if cc.position[1] == 0]\n",
    "        face_top = [cc.orientation['t'] for cc in self.state if cc.position[1] == 2]\n",
    "        face_front = [cc.orientation['f'] for cc in self.state if cc.position[2] == 0]\n",
    "        face_back = [cc.orientation['k'] for cc in self.state if cc.position[2] == 2]\n",
    "        \n",
    "        all_faces = [\n",
    "            face_left,\n",
    "            face_right,\n",
    "            face_bottom,\n",
    "            face_top,\n",
    "            face_front,\n",
    "            face_back\n",
    "        ]\n",
    "        \n",
    "        each_side_num_unique = [len(set(face)) for face in all_faces]\n",
    "        return each_side_num_unique == [1, 1, 1, 1, 1, 1]\n",
    "    \n",
    "    def __getitem__(self, ix):\n",
    "        return [cc for cc in self.state if cc.position == list(ix)][0]\n",
    "    \n",
    "    def visualise(self, border_multiplier=0.05):\n",
    "        \n",
    "        fig = plt.figure(figsize=[14, 6])\n",
    "        \n",
    "        colormap = {\n",
    "            'f': np.array([212, 212, 212]) / 256, # grey\n",
    "            'l': np.array([16, 173, 249]) / 256,  # blue\n",
    "            't': np.array([249, 40, 16]) / 256,   # red\n",
    "            'r': np.array([16, 249, 32]) / 256,   # green\n",
    "            'k': np.array([223, 249, 16]) / 256,  # yellow\n",
    "            'b': np.array([249, 145, 16]) / 256   # orange\n",
    "        }\n",
    "\n",
    "        ax = fig.add_subplot(1,2,1)\n",
    "        patches = []\n",
    "        colors = []\n",
    "\n",
    "        for i in range(3):\n",
    "            for j in range(3):\n",
    "                vertices = self[0, i, j].get_vertices('l', 'primary', border_multiplier)\n",
    "                polygon = Polygon(vertices)\n",
    "                patches.append(polygon)\n",
    "                colors.append(colormap[self[0, i, j].orientation['l']] * 0.9)\n",
    "\n",
    "        for i in range(3):\n",
    "            for j in range(3):\n",
    "                vertices = self[i, 2, j].get_vertices('t', 'primary', border_multiplier)\n",
    "                polygon = Polygon(vertices)\n",
    "                patches.append(polygon)\n",
    "                colors.append(colormap[self[i, 2, j].orientation['t']])\n",
    "\n",
    "        for i in range(3):\n",
    "            for j in range(3):\n",
    "                vertices = self[i, j, 0].get_vertices('f', 'primary', border_multiplier)\n",
    "                polygon = Polygon(vertices)\n",
    "                patches.append(polygon)\n",
    "                colors.append(colormap[self[i, j, 0].orientation['f']] * 0.95)\n",
    "\n",
    "        collection = PatchCollection(patches)\n",
    "        ax.add_collection(collection)\n",
    "        collection.set_color(colors)\n",
    "        plt.xlim([-2.5, 2.5])\n",
    "        plt.ylim([-0.5, 5.5])\n",
    "        plt.axis('off')\n",
    "        \n",
    "        ax = fig.add_subplot(1,2,2)\n",
    "        patches = []\n",
    "        colors = []\n",
    "\n",
    "        for i in range(3):\n",
    "            for j in range(3):\n",
    "                vertices = self[2, i, j].get_vertices('r', 'secondary', border_multiplier)\n",
    "                polygon = Polygon(vertices)\n",
    "                patches.append(polygon)\n",
    "                colors.append(colormap[self[2, i, j].orientation['r']] * 0.9)\n",
    "\n",
    "        for i in range(3):\n",
    "            for j in range(3):\n",
    "                vertices = self[i, 0, j].get_vertices('b', 'secondary', border_multiplier)\n",
    "                polygon = Polygon(vertices)\n",
    "                patches.append(polygon)\n",
    "                colors.append(colormap[self[i, 0, j].orientation['b']] * 0.8)\n",
    "\n",
    "        for i in range(3):\n",
    "            for j in range(3):\n",
    "                vertices = self[i, j, 2].get_vertices('k', 'secondary', border_multiplier)\n",
    "                polygon = Polygon(vertices)\n",
    "                patches.append(polygon)\n",
    "                colors.append(colormap[self[i, j, 2].orientation['k']])\n",
    "\n",
    "        collection = PatchCollection(patches)\n",
    "        ax.add_collection(collection)\n",
    "        collection.set_color(colors)\n",
    "        plt.xlim([-2.5, 2.5])\n",
    "        plt.ylim([-0.5, 5.5])\n",
    "        plt.axis('off')\n",
    "            \n",
    "        plt.show()"
   ]
  },
  {
   "cell_type": "code",
   "execution_count": 66,
   "metadata": {},
   "outputs": [
    {
     "data": {
      "image/png": "[encoded data removed]",
      "text/plain": [
       "<Figure size 1008x432 with 2 Axes>"
      ]
     },
     "metadata": {},
     "output_type": "display_data"
    }
   ],
   "source": [
    "np.random.seed(0)\n",
    "rc_1 = RubiksCube()\n",
    "rc_1.visualise()"
   ]
  },
  {
   "cell_type": "code",
   "execution_count": 30,
   "metadata": {
    "scrolled": true
   },
   "outputs": [
    {
     "data": {
      "image/png": "[encoded data removed]",
      "text/plain": [
       "<Figure size 1008x432 with 2 Axes>"
      ]
     },
     "metadata": {},
     "output_type": "display_data"
    }
   ],
   "source": [
    "rc_1.make_move(Move('x', 2, 0.75))\n",
    "rc_1.visualise()"
   ]
  },
  {
   "cell_type": "code",
   "execution_count": 112,
   "metadata": {},
   "outputs": [
    {
     "data": {
      "text/plain": [
       "[<matplotlib.lines.Line2D at 0x10d91d6a0>]"
      ]
     },
     "execution_count": 112,
     "metadata": {},
     "output_type": "execute_result"
    },
    {
     "data": {
      "image/png": "[encoded data removed]",
      "text/plain": [
       "<Figure size 432x288 with 1 Axes>"
      ]
     },
     "metadata": {},
     "output_type": "display_data"
    }
   ],
   "source": [
    "plt.plot(range(5), color=)"
   ]
  },
  {
   "cell_type": "code",
   "execution_count": null,
   "metadata": {},
   "outputs": [],
   "source": []
  }
 ],
 "metadata": {
  "kernelspec": {
   "display_name": "Python 3",
   "language": "python",
   "name": "python3"
  },
  "language_info": {
   "codemirror_mode": {
    "name": "ipython",
    "version": 3
   },
   "file_extension": ".py",
   "mimetype": "text/x-python",
   "name": "python",
   "nbconvert_exporter": "python",
   "pygments_lexer": "ipython3",
   "version": "3.6.4"
  }
 },
 "nbformat": 4,
 "nbformat_minor": 2
}
