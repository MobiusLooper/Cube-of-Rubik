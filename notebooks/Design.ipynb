{
 "cells": [
  {
   "cell_type": "code",
   "execution_count": 166,
   "metadata": {},
   "outputs": [],
   "source": [
    "import numpy as np\n",
    "from matplotlib import pyplot as plt\n",
    "from matplotlib.patches import Polygon\n",
    "from matplotlib.collections import PatchCollection\n",
    "%matplotlib inline"
   ]
  },
  {
   "cell_type": "code",
   "execution_count": 167,
   "metadata": {},
   "outputs": [],
   "source": [
    "class Move():\n",
    "    def __init__(self, axis, level, rotation):\n",
    "        self.axis = axis\n",
    "        self.level = level\n",
    "        self.rotation = rotation\n",
    "        \n",
    "    def invert(self):\n",
    "        return Move(self.axis, self.level, 1 - self.rotation)"
   ]
  },
  {
   "cell_type": "code",
   "execution_count": 318,
   "metadata": {},
   "outputs": [],
   "source": [
    "class ComponentCube():\n",
    "    def __init__(self, position, orientation):\n",
    "        self.position = position\n",
    "        self.orientation = orientation\n",
    "        \n",
    "        self.rotation_mapping = {\n",
    "            'x': {'f': 'b', 'b': 'k', 'k': 't', 't': 'f', 'l': 'l', 'r': 'r'},\n",
    "            'y': {'f': 'r', 'r': 'k', 'k': 'l', 'l': 'f', 't': 't', 'b': 'b'},\n",
    "            'z': {'t': 'r', 'r': 'b', 'b': 'l', 'l': 't', 'f': 'f', 'k': 'k'}\n",
    "        }\n",
    "        \n",
    "        self.position_mapping = {\n",
    "            '[2, 1]': [1, 0],\n",
    "            '[1, 0]': [0, 1],\n",
    "            '[0, 1]': [1, 2],\n",
    "            '[1, 2]': [2, 1],\n",
    "            '[0, 0]': [0, 2],\n",
    "            '[0, 2]': [2, 2],\n",
    "            '[2, 2]': [2, 0],\n",
    "            '[2, 0]': [0, 0],\n",
    "            '[1, 1]': [1, 1]\n",
    "        }\n",
    "        \n",
    "        self.projections = {\n",
    "            'x': [1, 2],\n",
    "            'y': [2, 0],\n",
    "            'z': [0, 1]\n",
    "        }\n",
    "    \n",
    "    def make_move(self, move: Move):\n",
    "        num_rotations = int(4 * move.rotation)\n",
    "        for i in range(num_rotations):\n",
    "            self.get_new_orientation(move)\n",
    "            self.get_new_position(move)\n",
    "            \n",
    "    def get_new_orientation(self, move: Move):\n",
    "        self.orientation = {fixed: self.rotation_mapping[move.axis][fluid] for fixed, fluid in self.orientation.items()}\n",
    "            \n",
    "    def get_new_position(self, move: Move):\n",
    "        position_copy = self.position.copy()\n",
    "        projection = self.projections[move.axis]\n",
    "        projection_coords = [position_copy[projection[0]], position_copy[projection[1]]]\n",
    "        new_sub_positions = self.position_mapping[str(projection_coords)]\n",
    "        self.position[projection[0]] = new_sub_positions[0]\n",
    "        self.position[projection[1]] = new_sub_positions[1]\n",
    "        \n",
    "    def get_vertices(self, face, view):\n",
    "        \n",
    "        if view == 'primary':\n",
    "\n",
    "            x = np.array([0.73, 0.18])\n",
    "            y = np.array([0, 1])\n",
    "            z = np.array([-0.4, 0.58])\n",
    "\n",
    "            if face == 'f':\n",
    "                bl_coords = [self.position[0] * x, self.position[1] * y, np.array([0.04, 0.04])]\n",
    "                tl_coords = [self.position[0] * x, (self.position[1] + 1) * y, np.array([0.04, -0.04])]\n",
    "                tr_coords = [(self.position[0] + 1) * x, (self.position[1] + 1) * y, np.array([-0.04, -0.04])]\n",
    "                br_coords = [(self.position[0] + 1) * x, self.position[1] * y, np.array([-0.04, 0.04])]\n",
    "            elif face == 't':\n",
    "                bl_coords = [self.position[0] * x, 3 * y, self.position[2] * z, np.array([0.04, 0.04])]\n",
    "                tl_coords = [self.position[0] * x, 3 * y, (self.position[2] + 1) * z, np.array([0.04, -0.04])]\n",
    "                tr_coords = [(self.position[0] + 1) * x, 3 * y, (self.position[2] + 1) * z, np.array([-0.04, -0.04])]\n",
    "                br_coords = [(self.position[0] + 1) * x, 3 * y, self.position[2] * z, np.array([-0.04, 0.04])]\n",
    "            elif face == 'l':\n",
    "                bl_coords = [self.position[1] * y, (self.position[2] + 1) * z,  np.array([0.02, 0.06])]\n",
    "                tl_coords = [(self.position[1] + 1) * y, (self.position[2] + 1) * z, np.array([0.02, -0.06])]\n",
    "                tr_coords = [(self.position[1] + 1) * y, self.position[2] * z, np.array([-0.02, -0.06])]\n",
    "                br_coords = [self.position[1] * y, self.position[2] * z, np.array([-0.02, 0.06])]\n",
    "    \n",
    "        elif view == 'secondary':\n",
    "            \n",
    "            x = np.array([0.73, -0.18])\n",
    "            y = np.array([0, 1])\n",
    "            z = np.array([-0.4, -0.58])\n",
    "            \n",
    "            if face == 'k':\n",
    "                bl_coords = [(3 - self.position[0]) * x, self.position[1] * y, np.array([0.04, 0.04])]\n",
    "                tl_coords = [(3 - self.position[0]) * x, (self.position[1] + 1) * y, np.array([0.04, -0.04])]\n",
    "                tr_coords = [(2 - self.position[0]) * x, (self.position[1] + 1) * y, np.array([-0.04, -0.04])]\n",
    "                br_coords = [(2 - self.position[0]) * x, self.position[1] * y, np.array([-0.04, 0.04])]\n",
    "            elif face == 'b':\n",
    "                bl_coords = [(3 - self.position[0]) * x, (2 - self.position[2]) * z, np.array([0.04, 0.04])]\n",
    "                tl_coords = [(3 - self.position[0]) * x, (3 - self.position[2]) * z, np.array([0.04, -0.04])]\n",
    "                tr_coords = [(2 - self.position[0]) * x, (3 - self.position[2]) * z, np.array([-0.04, -0.04])]\n",
    "                br_coords = [(2 - self.position[0]) * x, (2 - self.position[2]) * z, np.array([-0.04, 0.04])]\n",
    "            elif face == 'r':\n",
    "                bl_coords = [self.position[1] * y, (2 - self.position[2]) * z, np.array([0.04, 0.04])]\n",
    "                tl_coords = [(self.position[1] + 1) * y, (3 - self.position[2]) * z, np.array([0.04, -0.04])]\n",
    "                tr_coords = [(self.position[1] + 1) * y, (3 - self.position[2]) * z, np.array([-0.04, -0.04])]\n",
    "                br_coords = [self.position[1] * y, (2 - self.position[2]) * z, np.array([-0.04, 0.04])]\n",
    "            \n",
    "        else:\n",
    "            raise IndexError(f\"View {str(view)} not valid\")\n",
    "            \n",
    "        bl = sum(bl_coords)\n",
    "        tl = sum(tl_coords)\n",
    "        tr = sum(tr_coords)\n",
    "        br = sum(br_coords)\n",
    "        \n",
    "        return [bl, tl, tr, br]"
   ]
  },
  {
   "cell_type": "code",
   "execution_count": 319,
   "metadata": {},
   "outputs": [],
   "source": [
    "position = [0, 2, 1]\n",
    "orientation = {\n",
    "    'f': 'f',\n",
    "    'k': 'k',\n",
    "    'l': 'l',\n",
    "    'r': 'r',\n",
    "    't': 't',\n",
    "    'b': 'b'\n",
    "}\n",
    "\n",
    "cc = ComponentCube(position, orientation)"
   ]
  },
  {
   "cell_type": "code",
   "execution_count": 320,
   "metadata": {},
   "outputs": [
    {
     "data": {
      "text/plain": [
       "[0, 2, 1]"
      ]
     },
     "execution_count": 320,
     "metadata": {},
     "output_type": "execute_result"
    }
   ],
   "source": [
    "cc.position"
   ]
  },
  {
   "cell_type": "code",
   "execution_count": 321,
   "metadata": {},
   "outputs": [
    {
     "data": {
      "text/plain": [
       "{'f': 'f', 'k': 'k', 'l': 'l', 'r': 'r', 't': 't', 'b': 'b'}"
      ]
     },
     "execution_count": 321,
     "metadata": {},
     "output_type": "execute_result"
    }
   ],
   "source": [
    "cc.orientation"
   ]
  },
  {
   "cell_type": "code",
   "execution_count": 322,
   "metadata": {},
   "outputs": [],
   "source": [
    "cc.make_move(Move(level=1, axis='y', rotation=0.25))"
   ]
  },
  {
   "cell_type": "code",
   "execution_count": 323,
   "metadata": {},
   "outputs": [
    {
     "data": {
      "text/plain": [
       "[1, 2, 0]"
      ]
     },
     "execution_count": 323,
     "metadata": {},
     "output_type": "execute_result"
    }
   ],
   "source": [
    "cc.position"
   ]
  },
  {
   "cell_type": "code",
   "execution_count": 324,
   "metadata": {},
   "outputs": [
    {
     "data": {
      "text/plain": [
       "{'f': 'r', 'k': 'l', 'l': 'f', 'r': 'k', 't': 't', 'b': 'b'}"
      ]
     },
     "execution_count": 324,
     "metadata": {},
     "output_type": "execute_result"
    }
   ],
   "source": [
    "cc.orientation"
   ]
  },
  {
   "cell_type": "code",
   "execution_count": 325,
   "metadata": {},
   "outputs": [],
   "source": [
    "class RubiksCube():\n",
    "    def __init__(self, *args, **kwargs):\n",
    "        self.solved_orientation = {\n",
    "            'f': 'f',\n",
    "            'k': 'k',\n",
    "            'l': 'l',\n",
    "            'r': 'r',\n",
    "            't': 't',\n",
    "            'b': 'b'\n",
    "        }\n",
    "\n",
    "        self.perfectly_solved_state = [\n",
    "            ComponentCube(position=[i, j, k], \n",
    "                          orientation=self.solved_orientation) \\\n",
    "                              for i in range(3) \\\n",
    "                              for j in range(3) \\\n",
    "                              for k in range(3)\n",
    "        ]\n",
    "\n",
    "        self.NUM_SMALL_CUBES = 3 * 3 * 3\n",
    "        \n",
    "        self.moves_log = []\n",
    "        \n",
    "        if 'state' in kwargs.keys():\n",
    "            self.state = kwargs['state']\n",
    "        else:\n",
    "            self.randomise()\n",
    "\n",
    "    def randomise(self):\n",
    "        self.state = self.perfectly_solved_state\n",
    "#         for i in range(100):\n",
    "#             random_move = Move(\n",
    "#                 axis=np.random.choice(['x', 'y', 'z']),\n",
    "#                 level=np.random.choice([0, 1, 2]),\n",
    "#                 rotation=np.random.choice([0.25, 0.5, 0.75])\n",
    "#             )\n",
    "#             self.make_move(random_move)\n",
    "    \n",
    "    def get_cube_positions_to_move(self, move: Move):\n",
    "        if move.axis == 'x':\n",
    "            return [[move.level, i, j] for i in range(3) for j in range(3)]\n",
    "        elif move.axis == 'y':\n",
    "            return [[i, move.level, j] for i in range(3) for j in range(3)]\n",
    "        elif move.axis == 'z':\n",
    "            return [[i, j, move.level] for i in range(3) for j in range(3)]\n",
    "        \n",
    "    def make_move(self, move: Move):\n",
    "        for i in range(self.NUM_SMALL_CUBES):\n",
    "            if self.state[i].position in self.get_cube_positions_to_move(move):   \n",
    "                self.state[i].make_move(move)\n",
    "                self.moves_log.append(move)\n",
    "\n",
    "    def solve(self) -> list:\n",
    "        pass\n",
    "    \n",
    "    def is_solved(self):\n",
    "        face_left = [cc.orientation['l'] for cc in self.state if cc.position[0] == 0]\n",
    "        face_right = [cc.orientation['r'] for cc in self.state if cc.position[0] == 2]\n",
    "        face_bottom = [cc.orientation['b'] for cc in self.state if cc.position[1] == 0]\n",
    "        face_top = [cc.orientation['t'] for cc in self.state if cc.position[1] == 2]\n",
    "        face_front = [cc.orientation['f'] for cc in self.state if cc.position[2] == 0]\n",
    "        face_back = [cc.orientation['k'] for cc in self.state if cc.position[2] == 2]\n",
    "        \n",
    "        all_faces = [\n",
    "            face_left,\n",
    "            face_right,\n",
    "            face_bottom,\n",
    "            face_top,\n",
    "            face_front,\n",
    "            face_back\n",
    "        ]\n",
    "        \n",
    "        each_side_num_unique = [len(set(face)) for face in all_faces]\n",
    "        return each_side_num_unique == [1, 1, 1, 1, 1, 1]\n",
    "    \n",
    "    def __getitem__(self, ix):\n",
    "        return [cc for cc in self.state if cc.position == list(ix)][0]\n",
    "    \n",
    "    def visualise(self):\n",
    "        \n",
    "        fig = plt.figure(figsize=[14, 6])\n",
    "        ax = fig.add_subplot(1,2,1)\n",
    "        \n",
    "        colormap = {\n",
    "            'f': '#d4d4d4',\n",
    "            'l': '#10adf9',\n",
    "            't': '#f92810',\n",
    "            'r': '#10f920',\n",
    "            'k': '#dff910',\n",
    "            'b': '#f99110' \n",
    "        }\n",
    "        \n",
    "        for view in ['primary', 'secondary']:\n",
    "\n",
    "            patches = []\n",
    "            colors = []\n",
    "\n",
    "            for i in range(3):\n",
    "                for j in range(3):\n",
    "                    vertices = self[0, i, j].get_vertices('l', view)\n",
    "                    polygon = Polygon(vertices)\n",
    "                    patches.append(polygon)\n",
    "                    colors.append(colormap[self[0, i, j].orientation['l']])\n",
    "\n",
    "            for i in range(3):\n",
    "                for j in range(3):\n",
    "                    vertices = self[i, 2, j].get_vertices('t', view)\n",
    "                    polygon = Polygon(vertices)\n",
    "                    patches.append(polygon)\n",
    "                    colors.append(colormap[self[i, 2, j].orientation['t']])\n",
    "\n",
    "            for i in range(3):\n",
    "                for j in range(3):\n",
    "                    vertices = self[i, j, 0].get_vertices('f', view)\n",
    "                    polygon = Polygon(vertices)\n",
    "                    patches.append(polygon)\n",
    "                    colors.append(colormap[self[i, j, 0].orientation['f']])\n",
    "\n",
    "            collection = PatchCollection(patches)\n",
    "            ax.add_collection(collection)\n",
    "            collection.set_color(colors)\n",
    "            plt.xlim([-3, 3])\n",
    "            plt.ylim([-1, 6])\n",
    "            plt.axis('off')\n",
    "            \n",
    "        plt.show()"
   ]
  },
  {
   "cell_type": "code",
   "execution_count": 326,
   "metadata": {},
   "outputs": [],
   "source": [
    "rc = RubiksCube()"
   ]
  },
  {
   "cell_type": "code",
   "execution_count": 327,
   "metadata": {},
   "outputs": [
    {
     "ename": "TypeError",
     "evalue": "get_vertices() missing 1 required positional argument: 'view'",
     "output_type": "error",
     "traceback": [
      "\u001b[0;31m---------------------------------------------------------------------------\u001b[0m",
      "\u001b[0;31mTypeError\u001b[0m                                 Traceback (most recent call last)",
      "\u001b[0;32m<ipython-input-327-3602f01abe53>\u001b[0m in \u001b[0;36m<module>\u001b[0;34m()\u001b[0m\n\u001b[0;32m----> 1\u001b[0;31m \u001b[0mrc\u001b[0m\u001b[0;34m.\u001b[0m\u001b[0mvisualise\u001b[0m\u001b[0;34m(\u001b[0m\u001b[0;34m)\u001b[0m\u001b[0;34m\u001b[0m\u001b[0m\n\u001b[0m",
      "\u001b[0;32m<ipython-input-325-9b49ba1c8548>\u001b[0m in \u001b[0;36mvisualise\u001b[0;34m(self)\u001b[0m\n\u001b[1;32m     98\u001b[0m             \u001b[0;32mfor\u001b[0m \u001b[0mi\u001b[0m \u001b[0;32min\u001b[0m \u001b[0mrange\u001b[0m\u001b[0;34m(\u001b[0m\u001b[0;36m3\u001b[0m\u001b[0;34m)\u001b[0m\u001b[0;34m:\u001b[0m\u001b[0;34m\u001b[0m\u001b[0m\n\u001b[1;32m     99\u001b[0m                 \u001b[0;32mfor\u001b[0m \u001b[0mj\u001b[0m \u001b[0;32min\u001b[0m \u001b[0mrange\u001b[0m\u001b[0;34m(\u001b[0m\u001b[0;36m3\u001b[0m\u001b[0;34m)\u001b[0m\u001b[0;34m:\u001b[0m\u001b[0;34m\u001b[0m\u001b[0m\n\u001b[0;32m--> 100\u001b[0;31m                     \u001b[0mvertices\u001b[0m \u001b[0;34m=\u001b[0m \u001b[0mself\u001b[0m\u001b[0;34m[\u001b[0m\u001b[0;36m0\u001b[0m\u001b[0;34m,\u001b[0m \u001b[0mi\u001b[0m\u001b[0;34m,\u001b[0m \u001b[0mj\u001b[0m\u001b[0;34m]\u001b[0m\u001b[0;34m.\u001b[0m\u001b[0mget_vertices\u001b[0m\u001b[0;34m(\u001b[0m\u001b[0;34m'l'\u001b[0m\u001b[0;34m)\u001b[0m\u001b[0;34m\u001b[0m\u001b[0m\n\u001b[0m\u001b[1;32m    101\u001b[0m                     \u001b[0mpolygon\u001b[0m \u001b[0;34m=\u001b[0m \u001b[0mPolygon\u001b[0m\u001b[0;34m(\u001b[0m\u001b[0mvertices\u001b[0m\u001b[0;34m)\u001b[0m\u001b[0;34m\u001b[0m\u001b[0m\n\u001b[1;32m    102\u001b[0m                     \u001b[0mpatches\u001b[0m\u001b[0;34m.\u001b[0m\u001b[0mappend\u001b[0m\u001b[0;34m(\u001b[0m\u001b[0mpolygon\u001b[0m\u001b[0;34m)\u001b[0m\u001b[0;34m\u001b[0m\u001b[0m\n",
      "\u001b[0;31mTypeError\u001b[0m: get_vertices() missing 1 required positional argument: 'view'"
     ]
    },
    {
     "data": {
      "image/png": "[encoded data removed]",
      "text/plain": [
       "<Figure size 1008x432 with 1 Axes>"
      ]
     },
     "metadata": {},
     "output_type": "display_data"
    }
   ],
   "source": [
    "rc.visualise()"
   ]
  },
  {
   "cell_type": "code",
   "execution_count": 311,
   "metadata": {},
   "outputs": [
    {
     "name": "stdout",
     "output_type": "stream",
     "text": [
      "26.7 µs ± 1.01 µs per loop (mean ± std. dev. of 7 runs, 10000 loops each)\n"
     ]
    }
   ],
   "source": [
    "%%timeit\n",
    "rc.is_solved()"
   ]
  }
 ],
 "metadata": {
  "kernelspec": {
   "display_name": "Python 3",
   "language": "python",
   "name": "python3"
  },
  "language_info": {
   "codemirror_mode": {
    "name": "ipython",
    "version": 3
   },
   "file_extension": ".py",
   "mimetype": "text/x-python",
   "name": "python",
   "nbconvert_exporter": "python",
   "pygments_lexer": "ipython3",
   "version": "3.6.4"
  }
 },
 "nbformat": 4,
 "nbformat_minor": 2
}
